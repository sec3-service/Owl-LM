{
 "cells": [
  {
   "cell_type": "code",
   "execution_count": 25,
   "metadata": {},
   "outputs": [],
   "source": [
    "from transformers import AutoTokenizer, LongformerForSequenceClassification\n",
    "from tqdm import tqdm\n",
    "import torch\n",
    "from sklearn.metrics import confusion_matrix\n",
    "import pandas as pd"
   ]
  },
  {
   "cell_type": "code",
   "execution_count": 22,
   "metadata": {},
   "outputs": [],
   "source": [
    "# download the model and tokenizer from huggingface and replace this with your own path\n",
    "tokenizer = AutoTokenizer.from_pretrained('/home/ubuntu/transaction/data/tokenizer')\n",
    "model = LongformerForSequenceClassification.from_pretrained('/home/ubuntu/transaction/finetune3_results/checkpoint-2400')\n",
    "config = model.config"
   ]
  },
  {
   "cell_type": "code",
   "execution_count": 23,
   "metadata": {},
   "outputs": [
    {
     "name": "stderr",
     "output_type": "stream",
     "text": [
      "Processing rows: 100%|██████████| 10/10 [00:00<00:00, 13391.78it/s]\n"
     ]
    }
   ],
   "source": [
    "# load the example dataset\n",
    "dataset = pd.read_csv('example.csv')\n",
    "label, data = [], []\n",
    "for index, row in tqdm(dataset.iterrows(), desc=\"Processing rows\", total=len(dataset)):\n",
    "    label_row, data_row, transaction_hash_row = row['label'], row['data'], row['transaction_hash']\n",
    "    label.append(label_row)\n",
    "    data.append(data_row)"
   ]
  },
  {
   "cell_type": "code",
   "execution_count": 24,
   "metadata": {},
   "outputs": [
    {
     "name": "stdout",
     "output_type": "stream",
     "text": [
      "[[2 0 0 0 0]\n",
      " [0 2 0 0 0]\n",
      " [0 0 2 0 0]\n",
      " [0 0 0 2 0]\n",
      " [0 0 0 0 2]]\n"
     ]
    }
   ],
   "source": [
    "# make predictions\n",
    "predictions = []\n",
    "for i in range(len(data)):\n",
    "    inputs = tokenizer(data[i], return_tensors=\"pt\")\n",
    "    with torch.no_grad():\n",
    "        logits = model(**inputs).logits\n",
    "    predicted_class_id = logits.argmax().item()\n",
    "    predictions.append(model.config.id2label[predicted_class_id])\n",
    "\n",
    "# print the confusion matrix\n",
    "print(confusion_matrix(label, predictions))"
   ]
  }
 ],
 "metadata": {
  "kernelspec": {
   "display_name": "pytorch",
   "language": "python",
   "name": "python3"
  },
  "language_info": {
   "codemirror_mode": {
    "name": "ipython",
    "version": 3
   },
   "file_extension": ".py",
   "mimetype": "text/x-python",
   "name": "python",
   "nbconvert_exporter": "python",
   "pygments_lexer": "ipython3",
   "version": "3.9.16"
  },
  "orig_nbformat": 4
 },
 "nbformat": 4,
 "nbformat_minor": 2
}
